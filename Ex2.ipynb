{
 "cells": [
  {
   "cell_type": "code",
   "execution_count": 1,
   "metadata": {
    "executionInfo": {
     "elapsed": 17,
     "status": "ok",
     "timestamp": 1670464908407,
     "user": {
      "displayName": "01fe20bec079",
      "userId": "09617141891935800663"
     },
     "user_tz": -330
    },
    "id": "7Rpg_5gBdtKP"
   },
   "outputs": [],
   "source": [
    "#Q2"
   ]
  },
  {
   "cell_type": "code",
   "execution_count": 1,
   "metadata": {
    "executionInfo": {
     "elapsed": 499,
     "status": "ok",
     "timestamp": 1670466430159,
     "user": {
      "displayName": "01fe20bec079",
      "userId": "09617141891935800663"
     },
     "user_tz": -330
    },
    "id": "DGHmtLCId4xx"
   },
   "outputs": [],
   "source": [
    "import pandas as pd\n",
    "import numpy as np\n",
    "from numpy import math\n",
    "from sklearn.preprocessing import MinMaxScaler\n",
    "import matplotlib.pyplot as plt"
   ]
  },
  {
   "cell_type": "code",
   "execution_count": 2,
   "metadata": {
    "executionInfo": {
     "elapsed": 514,
     "status": "ok",
     "timestamp": 1670466433984,
     "user": {
      "displayName": "01fe20bec079",
      "userId": "09617141891935800663"
     },
     "user_tz": -330
    },
    "id": "NhDts8yEeUtu"
   },
   "outputs": [],
   "source": [
    "df=pd.read_csv('train.csv')"
   ]
  },
  {
   "cell_type": "code",
   "execution_count": 3,
   "metadata": {
    "executionInfo": {
     "elapsed": 7,
     "status": "ok",
     "timestamp": 1670466436557,
     "user": {
      "displayName": "01fe20bec079",
      "userId": "09617141891935800663"
     },
     "user_tz": -330
    },
    "id": "frjPJGDteUwU"
   },
   "outputs": [],
   "source": [
    "x1=df['GrLivArea']\n",
    "x2=df['TotalBsmtSF']\n",
    "y=df['SalePrice']"
   ]
  },
  {
   "cell_type": "code",
   "execution_count": 4,
   "metadata": {
    "colab": {
     "base_uri": "https://localhost:8080/"
    },
    "executionInfo": {
     "elapsed": 16,
     "status": "ok",
     "timestamp": 1670466439360,
     "user": {
      "displayName": "01fe20bec079",
      "userId": "09617141891935800663"
     },
     "user_tz": -330
    },
    "id": "QhGYiM_teUzQ",
    "outputId": "59c84dcd-c3f2-4309-b6b7-c27a9d11719a"
   },
   "outputs": [
    {
     "data": {
      "text/plain": [
       "(1460, 3)"
      ]
     },
     "execution_count": 4,
     "metadata": {},
     "output_type": "execute_result"
    }
   ],
   "source": [
    "x1=(x1-x1.mean()/x1.std())\n",
    "x2=(x2-x2.mean()/x2.std())\n",
    "#For e.g x1=[1,2,3], x2=[4,5,6] \n",
    "#to convert them into\n",
    "#([1 4]\n",
    "#[2 5]\n",
    "#[3 6])\n",
    "#we use np.c_\n",
    "x=np.c_[x1,x2,np.ones(x1.shape[0])]\n",
    "x.shape"
   ]
  },
  {
   "cell_type": "code",
   "execution_count": 9,
   "metadata": {
    "colab": {
     "base_uri": "https://localhost:8080/"
    },
    "executionInfo": {
     "elapsed": 875,
     "status": "ok",
     "timestamp": 1670466914001,
     "user": {
      "displayName": "01fe20bec079",
      "userId": "09617141891935800663"
     },
     "user_tz": -330
    },
    "id": "M_WU_8tEeU16",
    "outputId": "3788edbe-b1e1-4875-a602-8e28d3e9eb65"
   },
   "outputs": [
    {
     "name": "stdout",
     "output_type": "stream",
     "text": [
      "Initial values of coefficients:  [0.69646919 0.28613933 0.22685145]\n",
      "19248692688.81435\n",
      "2.5288810858182726e+19\n",
      "3.5520318555018856e+28\n",
      "4.989136526531558e+37\n",
      "7.007674564454711e+46\n",
      "9.842886146765056e+55\n",
      "1.3825186487625962e+65\n",
      "1.941867238609216e+74\n",
      "2.727520801082017e+83\n",
      "3.831039307127524e+92\n",
      "5.381026669689828e+101\n",
      "7.55811822813789e+110\n",
      "1.061603196882185e+120\n",
      "1.4911136788450802e+129\n",
      "2.0943983682122027e+138\n",
      "2.9417639895621112e+147\n",
      "4.131962429703147e+156\n",
      "5.803699270592985e+165\n",
      "8.151798521048359e+174\n",
      "1.1449907383119225e+184\n",
      "Final values of coefficients:  [-2.40418410e+93 -1.67392295e+93 -1.44149228e+90]\n",
      "\n",
      "Total time taken =  0.012965679168701172\n"
     ]
    }
   ],
   "source": [
    "import time\n",
    "\n",
    "#GD algorithm\n",
    "learning_rate=0.01\n",
    "epochs=20\n",
    "N=y.size\n",
    "np.random.seed(123)\n",
    "coeff=np.random.rand(3) #generates 3 random nos as there are 3 coefficients\n",
    "print(\"Initial values of coefficients: \",coeff)\n",
    "\n",
    "\n",
    "#algorithm\n",
    "def gD(x,y,coeff,epochs,learning_rate):\n",
    "  past_costs=[]\n",
    "  past_coeff=[coeff]\n",
    "  for i in range(epochs):\n",
    "    prediction=np.dot(x,coeff) #multiplies elements of x array with that of coeff array\n",
    "    error=prediction-y\n",
    "    cost=1/(2*N)*np.dot(error.T,error) #dot functions sums up\n",
    "    print(cost)\n",
    "    past_costs.append(cost)\n",
    "    der=(1/N)*learning_rate*np.dot(x.T,error)\n",
    "    coeff=coeff-der\n",
    "    past_coeff.append(coeff)\n",
    "  return past_coeff, past_costs\n",
    "\n",
    "start = time.time()\n",
    "past_coeff,past_costs=gD(x,y,coeff,epochs, learning_rate)\n",
    "coeff=past_coeff[-1]\n",
    "end = time.time()\n",
    "print(\"Final values of coefficients: \",coeff)\n",
    "total = end - start\n",
    "print(\"\\nTotal time taken = \",total)"
   ]
  },
  {
   "cell_type": "code",
   "execution_count": 8,
   "metadata": {
    "colab": {
     "base_uri": "https://localhost:8080/",
     "height": 295
    },
    "executionInfo": {
     "elapsed": 20,
     "status": "ok",
     "timestamp": 1670466445588,
     "user": {
      "displayName": "01fe20bec079",
      "userId": "09617141891935800663"
     },
     "user_tz": -330
    },
    "id": "Mk3b-JJIeU4k",
    "outputId": "7e692aa5-921e-4308-a9de-dd732deeb5ed"
   },
   "outputs": [
    {
     "data": {
      "image/png": "[encoded data removed]",
      "text/plain": [
       "<Figure size 432x288 with 1 Axes>"
      ]
     },
     "metadata": {
      "needs_background": "light"
     },
     "output_type": "display_data"
    }
   ],
   "source": [
    "#cost function\n",
    "plt.title('cost func')\n",
    "plt.xlabel('no of iterations')\n",
    "plt.ylabel('cost')\n",
    "plt.plot(past_costs)\n",
    "plt.show()"
   ]
  },
  {
   "cell_type": "code",
   "execution_count": null,
   "metadata": {
    "id": "Z5CqgwpEeU7H"
   },
   "outputs": [],
   "source": []
  },
  {
   "cell_type": "code",
   "execution_count": null,
   "metadata": {
    "id": "vKNn-ZP4eU9v"
   },
   "outputs": [],
   "source": []
  },
  {
   "cell_type": "code",
   "execution_count": null,
   "metadata": {
    "id": "Unke_MJ3eVAX"
   },
   "outputs": [],
   "source": []
  },
  {
   "cell_type": "code",
   "execution_count": null,
   "metadata": {
    "id": "OCeDtY2UeVDL"
   },
   "outputs": [],
   "source": []
  },
  {
   "cell_type": "code",
   "execution_count": null,
   "metadata": {
    "id": "1zDrkmKyeVFx"
   },
   "outputs": [],
   "source": []
  },
  {
   "cell_type": "code",
   "execution_count": null,
   "metadata": {
    "id": "glUQFmmieVIH"
   },
   "outputs": [],
   "source": []
  },
  {
   "cell_type": "code",
   "execution_count": null,
   "metadata": {
    "id": "M1ywR37YeVLA"
   },
   "outputs": [],
   "source": []
  },
  {
   "cell_type": "code",
   "execution_count": null,
   "metadata": {
    "id": "1RDv2JGaeVNj"
   },
   "outputs": [],
   "source": []
  },
  {
   "cell_type": "code",
   "execution_count": null,
   "metadata": {
    "id": "e67tGAEQeVQG"
   },
   "outputs": [],
   "source": []
  },
  {
   "cell_type": "code",
   "execution_count": null,
   "metadata": {
    "id": "H1cr8vYeeVSk"
   },
   "outputs": [],
   "source": []
  },
  {
   "cell_type": "code",
   "execution_count": null,
   "metadata": {
    "id": "SISbDomPeVV6"
   },
   "outputs": [],
   "source": []
  }
 ],
 "metadata": {
  "colab": {
   "authorship_tag": "ABX9TyPu4EqB16MUe7oCz6KSKqEV",
   "provenance": []
  },
  "kernelspec": {
   "display_name": "Python 3 (ipykernel)",
   "language": "python",
   "name": "python3"
  },
  "language_info": {
   "codemirror_mode": {
    "name": "ipython",
    "version": 3
   },
   "file_extension": ".py",
   "mimetype": "text/x-python",
   "name": "python",
   "nbconvert_exporter": "python",
   "pygments_lexer": "ipython3",
   "version": "3.9.12"
  }
 },
 "nbformat": 4,
 "nbformat_minor": 1
}
