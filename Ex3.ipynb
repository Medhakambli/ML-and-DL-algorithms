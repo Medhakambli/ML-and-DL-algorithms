{
 "cells": [
  {
   "cell_type": "code",
   "execution_count": 1,
   "metadata": {
    "executionInfo": {
     "elapsed": 435,
     "status": "ok",
     "timestamp": 1670494457897,
     "user": {
      "displayName": "BHUSH I",
      "userId": "15767436900651265469"
     },
     "user_tz": -330
    },
    "id": "UcbjBgayVWF4"
   },
   "outputs": [],
   "source": [
    "%matplotlib inline\n",
    "import numpy as np\n",
    "import matplotlib.pyplot as plt\n",
    "import seaborn as sns\n",
    "from sklearn import datasets\n",
    "from sklearn import linear_model\n",
    "import pandas as pd\n",
    "from sklearn.preprocessing import MinMaxScaler"
   ]
  },
  {
   "cell_type": "code",
   "execution_count": 4,
   "metadata": {
    "colab": {
     "base_uri": "https://localhost:8080/",
     "height": 424
    },
    "executionInfo": {
     "elapsed": 44,
     "status": "ok",
     "timestamp": 1670494458682,
     "user": {
      "displayName": "BHUSH I",
      "userId": "15767436900651265469"
     },
     "user_tz": -330
    },
    "id": "NWGKMHxhYV_O",
    "outputId": "08fe5b75-06ed-4573-fe10-501a0f29ce0f"
   },
   "outputs": [
    {
     "data": {
      "text/html": [
       "<div>\n",
       "<style scoped>\n",
       "    .dataframe tbody tr th:only-of-type {\n",
       "        vertical-align: middle;\n",
       "    }\n",
       "\n",
       "    .dataframe tbody tr th {\n",
       "        vertical-align: top;\n",
       "    }\n",
       "\n",
       "    .dataframe thead th {\n",
       "        text-align: right;\n",
       "    }\n",
       "</style>\n",
       "<table border=\"1\" class=\"dataframe\">\n",
       "  <thead>\n",
       "    <tr style=\"text-align: right;\">\n",
       "      <th></th>\n",
       "      <th>sepal length (cm)</th>\n",
       "      <th>sepal width (cm)</th>\n",
       "      <th>petal length (cm)</th>\n",
       "      <th>petal width (cm)</th>\n",
       "      <th>target</th>\n",
       "    </tr>\n",
       "  </thead>\n",
       "  <tbody>\n",
       "    <tr>\n",
       "      <th>0</th>\n",
       "      <td>5.1</td>\n",
       "      <td>3.5</td>\n",
       "      <td>1.4</td>\n",
       "      <td>0.2</td>\n",
       "      <td>0</td>\n",
       "    </tr>\n",
       "    <tr>\n",
       "      <th>1</th>\n",
       "      <td>4.9</td>\n",
       "      <td>3.0</td>\n",
       "      <td>1.4</td>\n",
       "      <td>0.2</td>\n",
       "      <td>0</td>\n",
       "    </tr>\n",
       "    <tr>\n",
       "      <th>2</th>\n",
       "      <td>4.7</td>\n",
       "      <td>3.2</td>\n",
       "      <td>1.3</td>\n",
       "      <td>0.2</td>\n",
       "      <td>0</td>\n",
       "    </tr>\n",
       "    <tr>\n",
       "      <th>3</th>\n",
       "      <td>4.6</td>\n",
       "      <td>3.1</td>\n",
       "      <td>1.5</td>\n",
       "      <td>0.2</td>\n",
       "      <td>0</td>\n",
       "    </tr>\n",
       "    <tr>\n",
       "      <th>4</th>\n",
       "      <td>5.0</td>\n",
       "      <td>3.6</td>\n",
       "      <td>1.4</td>\n",
       "      <td>0.2</td>\n",
       "      <td>0</td>\n",
       "    </tr>\n",
       "    <tr>\n",
       "      <th>...</th>\n",
       "      <td>...</td>\n",
       "      <td>...</td>\n",
       "      <td>...</td>\n",
       "      <td>...</td>\n",
       "      <td>...</td>\n",
       "    </tr>\n",
       "    <tr>\n",
       "      <th>120</th>\n",
       "      <td>6.9</td>\n",
       "      <td>3.2</td>\n",
       "      <td>5.7</td>\n",
       "      <td>2.3</td>\n",
       "      <td>2</td>\n",
       "    </tr>\n",
       "    <tr>\n",
       "      <th>121</th>\n",
       "      <td>5.6</td>\n",
       "      <td>2.8</td>\n",
       "      <td>4.9</td>\n",
       "      <td>2.0</td>\n",
       "      <td>2</td>\n",
       "    </tr>\n",
       "    <tr>\n",
       "      <th>122</th>\n",
       "      <td>7.7</td>\n",
       "      <td>2.8</td>\n",
       "      <td>6.7</td>\n",
       "      <td>2.0</td>\n",
       "      <td>2</td>\n",
       "    </tr>\n",
       "    <tr>\n",
       "      <th>123</th>\n",
       "      <td>6.3</td>\n",
       "      <td>2.7</td>\n",
       "      <td>4.9</td>\n",
       "      <td>1.8</td>\n",
       "      <td>2</td>\n",
       "    </tr>\n",
       "    <tr>\n",
       "      <th>124</th>\n",
       "      <td>6.7</td>\n",
       "      <td>3.3</td>\n",
       "      <td>5.7</td>\n",
       "      <td>2.1</td>\n",
       "      <td>2</td>\n",
       "    </tr>\n",
       "  </tbody>\n",
       "</table>\n",
       "<p>125 rows × 5 columns</p>\n",
       "</div>"
      ],
      "text/plain": [
       "     sepal length (cm)  sepal width (cm)  petal length (cm)  petal width (cm)  \\\n",
       "0                  5.1               3.5                1.4               0.2   \n",
       "1                  4.9               3.0                1.4               0.2   \n",
       "2                  4.7               3.2                1.3               0.2   \n",
       "3                  4.6               3.1                1.5               0.2   \n",
       "4                  5.0               3.6                1.4               0.2   \n",
       "..                 ...               ...                ...               ...   \n",
       "120                6.9               3.2                5.7               2.3   \n",
       "121                5.6               2.8                4.9               2.0   \n",
       "122                7.7               2.8                6.7               2.0   \n",
       "123                6.3               2.7                4.9               1.8   \n",
       "124                6.7               3.3                5.7               2.1   \n",
       "\n",
       "     target  \n",
       "0         0  \n",
       "1         0  \n",
       "2         0  \n",
       "3         0  \n",
       "4         0  \n",
       "..      ...  \n",
       "120       2  \n",
       "121       2  \n",
       "122       2  \n",
       "123       2  \n",
       "124       2  \n",
       "\n",
       "[125 rows x 5 columns]"
      ]
     },
     "execution_count": 4,
     "metadata": {},
     "output_type": "execute_result"
    }
   ],
   "source": [
    "iris = datasets.load_iris()\n",
    "df = pd.DataFrame(iris.data, columns = iris.feature_names)\n",
    "df['target'] = iris.target\n",
    "X = iris.data\n",
    "df.head(125)"
   ]
  },
  {
   "cell_type": "code",
   "execution_count": 5,
   "metadata": {
    "colab": {
     "base_uri": "https://localhost:8080/"
    },
    "executionInfo": {
     "elapsed": 40,
     "status": "ok",
     "timestamp": 1670494458684,
     "user": {
      "displayName": "BHUSH I",
      "userId": "15767436900651265469"
     },
     "user_tz": -330
    },
    "id": "SIQu-iTWYbCk",
    "outputId": "740021f3-7a7a-4986-f9d0-121fa5a69993"
   },
   "outputs": [
    {
     "data": {
      "text/plain": [
       "['sepal length (cm)',\n",
       " 'sepal width (cm)',\n",
       " 'petal length (cm)',\n",
       " 'petal width (cm)']"
      ]
     },
     "execution_count": 5,
     "metadata": {},
     "output_type": "execute_result"
    }
   ],
   "source": [
    "iris.feature_names"
   ]
  },
  {
   "cell_type": "code",
   "execution_count": 6,
   "metadata": {
    "colab": {
     "base_uri": "https://localhost:8080/"
    },
    "executionInfo": {
     "elapsed": 36,
     "status": "ok",
     "timestamp": 1670494458686,
     "user": {
      "displayName": "BHUSH I",
      "userId": "15767436900651265469"
     },
     "user_tz": -330
    },
    "id": "DONGrCY2Zyqk",
    "outputId": "92b0b80a-3d70-4875-fd73-6f4623c91588"
   },
   "outputs": [
    {
     "data": {
      "text/plain": [
       "array(['setosa', 'versicolor', 'virginica'], dtype='<U10')"
      ]
     },
     "execution_count": 6,
     "metadata": {},
     "output_type": "execute_result"
    }
   ],
   "source": [
    "iris.target_names\n"
   ]
  },
  {
   "cell_type": "code",
   "execution_count": 7,
   "metadata": {
    "colab": {
     "base_uri": "https://localhost:8080/"
    },
    "executionInfo": {
     "elapsed": 33,
     "status": "ok",
     "timestamp": 1670494458687,
     "user": {
      "displayName": "BHUSH I",
      "userId": "15767436900651265469"
     },
     "user_tz": -330
    },
    "id": "BJj45lAbZ2SQ",
    "outputId": "0cca96be-e769-4b0f-989a-0fd4d9b00818"
   },
   "outputs": [
    {
     "name": "stdout",
     "output_type": "stream",
     "text": [
      "100\n"
     ]
    },
    {
     "data": {
      "text/plain": [
       "array([[0.2962963 , 0.625     ],\n",
       "       [0.22222222, 0.41666667],\n",
       "       [0.14814815, 0.5       ],\n",
       "       [0.11111111, 0.45833333],\n",
       "       [0.25925926, 0.66666667],\n",
       "       [0.40740741, 0.79166667],\n",
       "       [0.11111111, 0.58333333],\n",
       "       [0.25925926, 0.58333333],\n",
       "       [0.03703704, 0.375     ],\n",
       "       [0.22222222, 0.45833333],\n",
       "       [0.40740741, 0.70833333],\n",
       "       [0.18518519, 0.58333333],\n",
       "       [0.18518519, 0.41666667],\n",
       "       [0.        , 0.41666667],\n",
       "       [0.55555556, 0.83333333],\n",
       "       [0.51851852, 1.        ],\n",
       "       [0.40740741, 0.79166667],\n",
       "       [0.2962963 , 0.625     ],\n",
       "       [0.51851852, 0.75      ],\n",
       "       [0.2962963 , 0.75      ],\n",
       "       [0.40740741, 0.58333333],\n",
       "       [0.2962963 , 0.70833333],\n",
       "       [0.11111111, 0.66666667],\n",
       "       [0.2962963 , 0.54166667],\n",
       "       [0.18518519, 0.58333333],\n",
       "       [0.25925926, 0.41666667],\n",
       "       [0.25925926, 0.58333333],\n",
       "       [0.33333333, 0.625     ],\n",
       "       [0.33333333, 0.58333333],\n",
       "       [0.14814815, 0.5       ],\n",
       "       [0.18518519, 0.45833333],\n",
       "       [0.40740741, 0.58333333],\n",
       "       [0.33333333, 0.875     ],\n",
       "       [0.44444444, 0.91666667],\n",
       "       [0.22222222, 0.45833333],\n",
       "       [0.25925926, 0.5       ],\n",
       "       [0.44444444, 0.625     ],\n",
       "       [0.22222222, 0.66666667],\n",
       "       [0.03703704, 0.41666667],\n",
       "       [0.2962963 , 0.58333333],\n",
       "       [0.25925926, 0.625     ],\n",
       "       [0.07407407, 0.125     ],\n",
       "       [0.03703704, 0.5       ],\n",
       "       [0.25925926, 0.625     ],\n",
       "       [0.2962963 , 0.75      ],\n",
       "       [0.18518519, 0.41666667],\n",
       "       [0.2962963 , 0.75      ],\n",
       "       [0.11111111, 0.5       ],\n",
       "       [0.37037037, 0.70833333],\n",
       "       [0.25925926, 0.54166667],\n",
       "       [1.        , 0.5       ],\n",
       "       [0.77777778, 0.5       ],\n",
       "       [0.96296296, 0.45833333],\n",
       "       [0.44444444, 0.125     ],\n",
       "       [0.81481481, 0.33333333],\n",
       "       [0.51851852, 0.33333333],\n",
       "       [0.74074074, 0.54166667],\n",
       "       [0.22222222, 0.16666667],\n",
       "       [0.85185185, 0.375     ],\n",
       "       [0.33333333, 0.29166667],\n",
       "       [0.25925926, 0.        ],\n",
       "       [0.59259259, 0.41666667],\n",
       "       [0.62962963, 0.08333333],\n",
       "       [0.66666667, 0.375     ],\n",
       "       [0.48148148, 0.375     ],\n",
       "       [0.88888889, 0.45833333],\n",
       "       [0.48148148, 0.41666667],\n",
       "       [0.55555556, 0.29166667],\n",
       "       [0.7037037 , 0.08333333],\n",
       "       [0.48148148, 0.20833333],\n",
       "       [0.59259259, 0.5       ],\n",
       "       [0.66666667, 0.33333333],\n",
       "       [0.74074074, 0.20833333],\n",
       "       [0.66666667, 0.33333333],\n",
       "       [0.77777778, 0.375     ],\n",
       "       [0.85185185, 0.41666667],\n",
       "       [0.92592593, 0.33333333],\n",
       "       [0.88888889, 0.41666667],\n",
       "       [0.62962963, 0.375     ],\n",
       "       [0.51851852, 0.25      ],\n",
       "       [0.44444444, 0.16666667],\n",
       "       [0.44444444, 0.16666667],\n",
       "       [0.55555556, 0.29166667],\n",
       "       [0.62962963, 0.29166667],\n",
       "       [0.40740741, 0.41666667],\n",
       "       [0.62962963, 0.58333333],\n",
       "       [0.88888889, 0.45833333],\n",
       "       [0.74074074, 0.125     ],\n",
       "       [0.48148148, 0.41666667],\n",
       "       [0.44444444, 0.20833333],\n",
       "       [0.44444444, 0.25      ],\n",
       "       [0.66666667, 0.41666667],\n",
       "       [0.55555556, 0.25      ],\n",
       "       [0.25925926, 0.125     ],\n",
       "       [0.48148148, 0.29166667],\n",
       "       [0.51851852, 0.41666667],\n",
       "       [0.51851852, 0.375     ],\n",
       "       [0.7037037 , 0.375     ],\n",
       "       [0.2962963 , 0.20833333],\n",
       "       [0.51851852, 0.33333333]])"
      ]
     },
     "execution_count": 7,
     "metadata": {},
     "output_type": "execute_result"
    }
   ],
   "source": [
    "X = iris.data[:, :2]\n",
    "\n",
    "y_bool = iris.target!=2\n",
    "\n",
    "y = iris.target[y_bool]\n",
    "print(len(y))\n",
    "scaler1 = MinMaxScaler(feature_range=(0, 1))\n",
    "X = scaler1.fit_transform(X[y_bool])\n",
    "# X = X[y_bool]\n",
    "len(X)\n",
    "X"
   ]
  },
  {
   "cell_type": "code",
   "execution_count": 8,
   "metadata": {
    "colab": {
     "base_uri": "https://localhost:8080/"
    },
    "executionInfo": {
     "elapsed": 29,
     "status": "ok",
     "timestamp": 1670494458689,
     "user": {
      "displayName": "BHUSH I",
      "userId": "15767436900651265469"
     },
     "user_tz": -330
    },
    "id": "wWBEEjUdaIE4",
    "outputId": "23d25161-9cf3-4e30-acec-2cdcdb07dcc5"
   },
   "outputs": [
    {
     "data": {
      "text/plain": [
       "((100,), (100, 2))"
      ]
     },
     "execution_count": 8,
     "metadata": {},
     "output_type": "execute_result"
    }
   ],
   "source": [
    "y.shape, X.shape"
   ]
  },
  {
   "cell_type": "code",
   "execution_count": 9,
   "metadata": {
    "colab": {
     "base_uri": "https://localhost:8080/",
     "height": 393
    },
    "executionInfo": {
     "elapsed": 704,
     "status": "ok",
     "timestamp": 1670494459375,
     "user": {
      "displayName": "BHUSH I",
      "userId": "15767436900651265469"
     },
     "user_tz": -330
    },
    "id": "KG1DUyQHaZT1",
    "outputId": "2433ce99-b99d-4666-dae9-864045e1c1d1"
   },
   "outputs": [
    {
     "data": {
      "image/png": "[encoded data removed]",
      "text/plain": [
       "<Figure size 576x432 with 1 Axes>"
      ]
     },
     "metadata": {
      "needs_background": "light"
     },
     "output_type": "display_data"
    }
   ],
   "source": [
    "plt.figure(1,figsize=(8,6))\n",
    "ax = plt.scatter(X[:,0],X[:,1],c=y, cmap=\"bwr_r\")\n",
    "plt.xlabel(iris.feature_names[0], fontsize=15)\n",
    "plt.ylabel(iris.feature_names[1], fontsize=15)\n",
    "s1 = plt.scatter([],[], s=30, marker='o', c='red' )\n",
    "s2 = plt.scatter([],[], s=30, marker='o', c='blue')\n",
    "\n",
    "plt.legend((s1,s2),\n",
    "       (iris.target_names[0],iris.target_names[1]),\n",
    "       scatterpoints=1,\n",
    "       loc='upper right',\n",
    "       fontsize=12,\n",
    "           )\n",
    "plt.show()"
   ]
  },
  {
   "cell_type": "code",
   "execution_count": 10,
   "metadata": {
    "executionInfo": {
     "elapsed": 22,
     "status": "ok",
     "timestamp": 1670494459377,
     "user": {
      "displayName": "BHUSH I",
      "userId": "15767436900651265469"
     },
     "user_tz": -330
    },
    "id": "Dis6ZvIladJn"
   },
   "outputs": [],
   "source": [
    "X = np.c_[np.ones((X.shape[0],1)), X[:]]\n",
    "y = y.reshape(-1,1)\n",
    "\n",
    "\n",
    "# Parameters required for Gradient Descent\n",
    "alpha = 0.1   #learning rate\n",
    "m = y.size  #no. of samples\n",
    "np.random.seed(10)\n",
    "theta = np.random.rand(3)  #initializing theta with some random values\n",
    "theta = theta.reshape(-1,1)"
   ]
  },
  {
   "cell_type": "code",
   "execution_count": 11,
   "metadata": {
    "executionInfo": {
     "elapsed": 22,
     "status": "ok",
     "timestamp": 1670494459378,
     "user": {
      "displayName": "BHUSH I",
      "userId": "15767436900651265469"
     },
     "user_tz": -330
    },
    "id": "25HKjMaqaiXE"
   },
   "outputs": [],
   "source": [
    "def gradient_descent(x, y, m, theta,  alpha):\n",
    "    cost_list = []   #to record all cost values to this list\n",
    "    theta_list = []  #to record all theta_0 and theta_1 values to this list \n",
    "    prediction_list = []\n",
    "    run = True\n",
    "    cost_list.append(1e10)    #we append some large value (initial value) to the cost list\n",
    "    i=0\n",
    "    while run:\n",
    "        Z = np.dot(x, theta) \n",
    "        prediction = 1 / (1 + np.exp(-Z))   #predicted y values - sigmoid function\n",
    "        prediction_list.append(prediction)\n",
    "        error = prediction - y\n",
    "        cost = np.sum(-(y * np.log(prediction) + (1 - y) * np.log(1 - prediction))) / m   #  (1/2m)*sum[(error)^2]\n",
    "#         cost = -(1/m)*np.sum(np.dot(y.T, np.log(prediction)) + np.dot((1 - y).T, np.log(1 - prediction)))\n",
    "        \n",
    "        cost_list.append(cost)\n",
    "        theta = theta - (alpha * (1/m) * np.dot(x.T, error))   # alpha * (1/m) * sum[error*x]\n",
    "        theta_list.append(theta)\n",
    "        if cost_list[i]-cost_list[i+1] < 1e-8:   #checking if the change in cost function is less than 10^(-8)\n",
    "            run = False\n",
    "\n",
    "        i+=1\n",
    "    cost_list.pop(0)   # Remove the large number we added in the begining \n",
    "   \n",
    "    return prediction_list, cost_list, theta_list"
   ]
  },
  {
   "cell_type": "code",
   "execution_count": 12,
   "metadata": {
    "colab": {
     "base_uri": "https://localhost:8080/"
    },
    "executionInfo": {
     "elapsed": 20291,
     "status": "ok",
     "timestamp": 1670494479649,
     "user": {
      "displayName": "BHUSH I",
      "userId": "15767436900651265469"
     },
     "user_tz": -330
    },
    "id": "4Wz1bRxqOoJK",
    "outputId": "b2e97d0f-96c0-48f4-ee08-45c7f182dd55"
   },
   "outputs": [
    {
     "name": "stdout",
     "output_type": "stream",
     "text": [
      "CPU times: total: 13 s\n",
      "Wall time: 13 s\n"
     ]
    }
   ],
   "source": [
    "%%time \n",
    "prediction_list, cost_list, theta_list = gradient_descent(X, y, m, theta, alpha)\n",
    "theta = theta_list[-1]"
   ]
  },
  {
   "cell_type": "code",
   "execution_count": 13,
   "metadata": {
    "colab": {
     "base_uri": "https://localhost:8080/"
    },
    "executionInfo": {
     "elapsed": 21,
     "status": "ok",
     "timestamp": 1670494479652,
     "user": {
      "displayName": "BHUSH I",
      "userId": "15767436900651265469"
     },
     "user_tz": -330
    },
    "id": "cRK2CzDdasb2",
    "outputId": "f07cd84a-e57b-4986-b610-0f0fedc101bf"
   },
   "outputs": [
    {
     "data": {
      "text/plain": [
       "array([[ -0.93443011],\n",
       "       [ 40.05992555],\n",
       "       [-32.15434522]])"
      ]
     },
     "execution_count": 13,
     "metadata": {},
     "output_type": "execute_result"
    }
   ],
   "source": [
    "theta"
   ]
  },
  {
   "cell_type": "code",
   "execution_count": 14,
   "metadata": {
    "colab": {
     "base_uri": "https://localhost:8080/",
     "height": 317
    },
    "executionInfo": {
     "elapsed": 993,
     "status": "ok",
     "timestamp": 1670494480630,
     "user": {
      "displayName": "BHUSH I",
      "userId": "15767436900651265469"
     },
     "user_tz": -330
    },
    "id": "g5cIu8jcazuI",
    "outputId": "946b0ee7-5626-4572-e3ab-15e0a9b20fe2"
   },
   "outputs": [
    {
     "data": {
      "image/png": "[encoded data removed]",
      "text/plain": [
       "<Figure size 432x288 with 1 Axes>"
      ]
     },
     "metadata": {
      "needs_background": "light"
     },
     "output_type": "display_data"
    }
   ],
   "source": [
    "plt.title('Cost Function J', size = 30)\n",
    "plt.xlabel('No. of iterations', size=20)\n",
    "plt.ylabel('Cost', size=20)\n",
    "plt.plot(cost_list)\n",
    "plt.show()"
   ]
  },
  {
   "cell_type": "code",
   "execution_count": 15,
   "metadata": {
    "executionInfo": {
     "elapsed": 21,
     "status": "ok",
     "timestamp": 1670494480631,
     "user": {
      "displayName": "BHUSH I",
      "userId": "15767436900651265469"
     },
     "user_tz": -330
    },
    "id": "8Abkfxbda0tA"
   },
   "outputs": [],
   "source": [
    "xx = np.linspace(X.min(), X.max())\n",
    "yy = - theta[1]/theta[2] *xx - theta[0]/theta[2]"
   ]
  },
  {
   "cell_type": "code",
   "execution_count": 16,
   "metadata": {
    "colab": {
     "base_uri": "https://localhost:8080/"
    },
    "executionInfo": {
     "elapsed": 21,
     "status": "ok",
     "timestamp": 1670494480633,
     "user": {
      "displayName": "BHUSH I",
      "userId": "15767436900651265469"
     },
     "user_tz": -330
    },
    "id": "HbQd8bIla4iz",
    "outputId": "01c3a741-950e-4bbc-9f20-1409978d109c"
   },
   "outputs": [
    {
     "data": {
      "text/plain": [
       "(100, 3)"
      ]
     },
     "execution_count": 16,
     "metadata": {},
     "output_type": "execute_result"
    }
   ],
   "source": [
    "X.shape\n"
   ]
  },
  {
   "cell_type": "code",
   "execution_count": 17,
   "metadata": {
    "colab": {
     "base_uri": "https://localhost:8080/",
     "height": 393
    },
    "executionInfo": {
     "elapsed": 1389,
     "status": "ok",
     "timestamp": 1670494482008,
     "user": {
      "displayName": "BHUSH I",
      "userId": "15767436900651265469"
     },
     "user_tz": -330
    },
    "id": "9GH_VuJ7a8Go",
    "outputId": "fac16168-9aae-4bd0-cbb5-0458f54f946a"
   },
   "outputs": [
    {
     "data": {
      "image/png": "[encoded data removed]",
      "text/plain": [
       "<Figure size 576x432 with 1 Axes>"
      ]
     },
     "metadata": {
      "needs_background": "light"
     },
     "output_type": "display_data"
    }
   ],
   "source": [
    "X_setosa = X[:,1:][y.ravel()==0] \n",
    "X_versicolor = X[:,1:][y.ravel()==1]\n",
    "plt.figure(1,figsize=(8,6))\n",
    "plt.plot(X_setosa[:,0], X_setosa[:,1],'o',label='setosa')\n",
    "plt.plot(X_versicolor[:,0], X_versicolor[:,1],'o',label='versicolor')\n",
    "plt.plot(xx,yy,label='Hyperplane-scratch')\n",
    "plt.xlim(X[:,1].min()-0.1, X[:,1].max()+0.1)\n",
    "plt.ylim(X[:,2].min()-0.1, X[:,2].max()+0.1)\n",
    "plt.legend()\n",
    "plt.xlabel(iris.feature_names[0], fontsize=15)\n",
    "plt.ylabel(iris.feature_names[1], fontsize=15)\n",
    "plt.show()"
   ]
  },
  {
   "cell_type": "code",
   "execution_count": 18,
   "metadata": {
    "colab": {
     "base_uri": "https://localhost:8080/"
    },
    "executionInfo": {
     "elapsed": 87,
     "status": "ok",
     "timestamp": 1670494482009,
     "user": {
      "displayName": "BHUSH I",
      "userId": "15767436900651265469"
     },
     "user_tz": -330
    },
    "id": "wVh-fc0IbAsP",
    "outputId": "383a75d3-09cd-401c-9d7b-1779b46f1c5d"
   },
   "outputs": [
    {
     "data": {
      "text/plain": [
       "array([[ -0.93443011],\n",
       "       [ 40.05992555],\n",
       "       [-32.15434522]])"
      ]
     },
     "execution_count": 18,
     "metadata": {},
     "output_type": "execute_result"
    }
   ],
   "source": [
    "theta"
   ]
  },
  {
   "cell_type": "markdown",
   "metadata": {
    "id": "UxNoDFcKbWU3"
   },
   "source": [
    "Hyperparameters"
   ]
  },
  {
   "cell_type": "code",
   "execution_count": 21,
   "metadata": {
    "executionInfo": {
     "elapsed": 82,
     "status": "ok",
     "timestamp": 1670494482011,
     "user": {
      "displayName": "BHUSH I",
      "userId": "15767436900651265469"
     },
     "user_tz": -330
    },
    "id": "d_F5OkCnbDOo"
   },
   "outputs": [],
   "source": [
    "X_sklearn = iris.data[:, :2]\n",
    "\n",
    "y_bool = iris.target!=2\n",
    "\n",
    "y = iris.target[y_bool]\n",
    "\n",
    "X_sklearn = X_sklearn[y_bool]\n",
    "from sklearn.linear_model import LogisticRegression\n",
    "lr = LogisticRegression(C=1e100, penalty='l1', tol=1e-8, solver='liblinear')"
   ]
  },
  {
   "cell_type": "code",
   "execution_count": 22,
   "metadata": {
    "colab": {
     "base_uri": "https://localhost:8080/"
    },
    "executionInfo": {
     "elapsed": 81,
     "status": "ok",
     "timestamp": 1670494482012,
     "user": {
      "displayName": "BHUSH I",
      "userId": "15767436900651265469"
     },
     "user_tz": -330
    },
    "id": "NB7qxaF8bNFU",
    "outputId": "da3c500c-0170-4938-c3a8-ad0e38d43e80"
   },
   "outputs": [
    {
     "name": "stderr",
     "output_type": "stream",
     "text": [
      "H:\\Anaconda\\anaconda\\lib\\site-packages\\sklearn\\svm\\_base.py:1206: ConvergenceWarning: Liblinear failed to converge, increase the number of iterations.\n",
      "  warnings.warn(\n"
     ]
    }
   ],
   "source": [
    "lr = lr.fit(X_sklearn,y)"
   ]
  },
  {
   "cell_type": "code",
   "execution_count": 23,
   "metadata": {
    "colab": {
     "base_uri": "https://localhost:8080/"
    },
    "executionInfo": {
     "elapsed": 77,
     "status": "ok",
     "timestamp": 1670494482013,
     "user": {
      "displayName": "BHUSH I",
      "userId": "15767436900651265469"
     },
     "user_tz": -330
    },
    "id": "r_2scfX4bPVv",
    "outputId": "3425e89f-3777-48f5-8469-1a55239aaa24"
   },
   "outputs": [
    {
     "data": {
      "text/plain": [
       "array([[ 12.12412719, -11.76119288]])"
      ]
     },
     "execution_count": 23,
     "metadata": {},
     "output_type": "execute_result"
    }
   ],
   "source": [
    "lr.coef_"
   ]
  },
  {
   "cell_type": "code",
   "execution_count": 24,
   "metadata": {
    "colab": {
     "base_uri": "https://localhost:8080/"
    },
    "executionInfo": {
     "elapsed": 72,
     "status": "ok",
     "timestamp": 1670494482014,
     "user": {
      "displayName": "BHUSH I",
      "userId": "15767436900651265469"
     },
     "user_tz": -330
    },
    "id": "yBWf5aylbaEW",
    "outputId": "4e599c0c-8cfd-4c57-9c9c-199c1dd54397"
   },
   "outputs": [
    {
     "data": {
      "text/plain": [
       "array([-28.69478269])"
      ]
     },
     "execution_count": 24,
     "metadata": {},
     "output_type": "execute_result"
    }
   ],
   "source": [
    "lr.intercept_"
   ]
  },
  {
   "cell_type": "code",
   "execution_count": 25,
   "metadata": {
    "colab": {
     "base_uri": "https://localhost:8080/",
     "height": 393
    },
    "executionInfo": {
     "elapsed": 67,
     "status": "ok",
     "timestamp": 1670494482015,
     "user": {
      "displayName": "BHUSH I",
      "userId": "15767436900651265469"
     },
     "user_tz": -330
    },
    "id": "mPm1ihRsbcL5",
    "outputId": "f4e05b96-327e-4302-9c3e-819ebccce6e5"
   },
   "outputs": [
    {
     "data": {
      "image/png": "[encoded data removed]",
      "text/plain": [
       "<Figure size 576x432 with 1 Axes>"
      ]
     },
     "metadata": {
      "needs_background": "light"
     },
     "output_type": "display_data"
    }
   ],
   "source": [
    "yy_l1 = - lr.coef_[0,0]/lr.coef_[0,1] *xx - lr.intercept_[0]/lr.coef_[0,1]\n",
    "plt.figure(1,figsize=(8,6))\n",
    "plt.plot(X_setosa[:,0], X_setosa[:,1],'o',label='setosa')\n",
    "plt.plot(X_versicolor[:,0], X_versicolor[:,1],'o',label='versicolor')\n",
    "plt.plot(xx,yy,label='Hyperplane-scratch')\n",
    "plt.plot(xx,yy_l1,'--',label='Sklearn')\n",
    "plt.xlim(X[:,1].min()-0.1, X[:,1].max()+0.1)\n",
    "plt.ylim(X[:,2].min()-0.1, X[:,2].max()+0.1)\n",
    "plt.legend()\n",
    "plt.xlabel(iris.feature_names[0], fontsize=15)\n",
    "plt.ylabel(iris.feature_names[1], fontsize=15)\n",
    "plt.show()"
   ]
  },
  {
   "cell_type": "code",
   "execution_count": 26,
   "metadata": {
    "colab": {
     "base_uri": "https://localhost:8080/",
     "height": 36
    },
    "executionInfo": {
     "elapsed": 63,
     "status": "ok",
     "timestamp": 1670494482015,
     "user": {
      "displayName": "BHUSH I",
      "userId": "15767436900651265469"
     },
     "user_tz": -330
    },
    "id": "X9-UCOZBbfQD",
    "outputId": "8bcce927-2f51-473c-e700-dfe6403af6f7"
   },
   "outputs": [
    {
     "data": {
      "text/plain": [
       "'Theta_0 and Theta_1 are -0.934,40.06'"
      ]
     },
     "execution_count": 26,
     "metadata": {},
     "output_type": "execute_result"
    }
   ],
   "source": [
    "'Theta_0 and Theta_1 are {},{}'.format(round(theta[0,0],3),round(theta[1,0],3))"
   ]
  },
  {
   "cell_type": "code",
   "execution_count": 27,
   "metadata": {
    "colab": {
     "base_uri": "https://localhost:8080/",
     "height": 36
    },
    "executionInfo": {
     "elapsed": 61,
     "status": "ok",
     "timestamp": 1670494482016,
     "user": {
      "displayName": "BHUSH I",
      "userId": "15767436900651265469"
     },
     "user_tz": -330
    },
    "id": "_4lFmeW4bjbu",
    "outputId": "4183edcb-cbf7-493a-a56c-9829ca6bc213"
   },
   "outputs": [
    {
     "data": {
      "text/plain": [
       "'Theta_0 and Theta_1 are -28.695,12.124'"
      ]
     },
     "execution_count": 27,
     "metadata": {},
     "output_type": "execute_result"
    }
   ],
   "source": [
    "'Theta_0 and Theta_1 are {},{}'.format(round(lr.intercept_[0],3), round(lr.coef_[0,0],3))"
   ]
  },
  {
   "cell_type": "code",
   "execution_count": 28,
   "metadata": {
    "colab": {
     "base_uri": "https://localhost:8080/",
     "height": 36
    },
    "executionInfo": {
     "elapsed": 59,
     "status": "ok",
     "timestamp": 1670494482017,
     "user": {
      "displayName": "BHUSH I",
      "userId": "15767436900651265469"
     },
     "user_tz": -330
    },
    "id": "6UPlO0gDblnc",
    "outputId": "774c0026-c5b8-41d4-a88c-09151b764607"
   },
   "outputs": [
    {
     "data": {
      "text/plain": [
       "'setosa'"
      ]
     },
     "execution_count": 28,
     "metadata": {},
     "output_type": "execute_result"
    }
   ],
   "source": [
    "test_data = [[5,3.5]]\n",
    "iris.target_names[lr.predict(test_data)[0] ]"
   ]
  },
  {
   "cell_type": "code",
   "execution_count": null,
   "metadata": {},
   "outputs": [],
   "source": []
  }
 ],
 "metadata": {
  "colab": {
   "authorship_tag": "ABX9TyN+8u3OtyxzwzXM2aCr5icu",
   "provenance": []
  },
  "kernelspec": {
   "display_name": "Python 3 (ipykernel)",
   "language": "python",
   "name": "python3"
  },
  "language_info": {
   "codemirror_mode": {
    "name": "ipython",
    "version": 3
   },
   "file_extension": ".py",
   "mimetype": "text/x-python",
   "name": "python",
   "nbconvert_exporter": "python",
   "pygments_lexer": "ipython3",
   "version": "3.9.12"
  }
 },
 "nbformat": 4,
 "nbformat_minor": 1
}
